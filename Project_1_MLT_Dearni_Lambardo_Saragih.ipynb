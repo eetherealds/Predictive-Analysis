{
  "nbformat": 4,
  "nbformat_minor": 0,
  "metadata": {
    "colab": {
      "provenance": []
    },
    "kernelspec": {
      "name": "python3",
      "display_name": "Python 3"
    },
    "language_info": {
      "name": "python"
    }
  },
  "cells": [
    {
      "cell_type": "markdown",
      "source": [
        "# **Predictive Analysis: Milk Quality dataset**"
      ],
      "metadata": {
        "id": "J4RUpcBhXRrP"
      }
    },
    {
      "cell_type": "markdown",
      "source": [
        "https://www.kaggle.com/datasets/cpluzshrijayan/milkquality/data"
      ],
      "metadata": {
        "id": "PozFpdbaXmLf"
      }
    },
    {
      "cell_type": "markdown",
      "source": [
        "# **1. Import Library**"
      ],
      "metadata": {
        "id": "hbSZ0vgspNLk"
      }
    },
    {
      "cell_type": "markdown",
      "source": [
        "Pada tahap ini, kita perlu mengimpor beberapa pustaka (library) Python yang dibutuhkan untuk analisis data dan pembangunan model machine learning."
      ],
      "metadata": {
        "id": "H3VViPYfpWBb"
      }
    },
    {
      "cell_type": "code",
      "execution_count": 1,
      "metadata": {
        "id": "CmkCnEoFm_pe"
      },
      "outputs": [],
      "source": [
        "import numpy as np        # operasi numerik\n",
        "import pandas as pd       # manipulasi data\n",
        "\n",
        "import matplotlib.pyplot as plt   # visualisasi grafik\n",
        "import seaborn as sns             # visualisasi statistik\n",
        "\n",
        "from sklearn.model_selection import train_test_split, GridSearchCV              # split data & tuning model\n",
        "from sklearn.preprocessing import LabelEncoder, StandardScaler, OneHotEncoder   # pra-pemrosesan data\n",
        "from sklearn.compose import ColumnTransformer         # transformasi kolom\n",
        "from sklearn.pipeline import Pipeline                 # pipeline ML\n",
        "\n",
        "from sklearn.ensemble import RandomForestClassifier   # model random forest\n",
        "from sklearn.svm import SVC                           # model SVM\n",
        "\n",
        "from sklearn.metrics import accuracy_score, classification_report, confusion_matrix, f1_score   # evaluasi model\n",
        "\n",
        "import warnings\n",
        "warnings.filterwarnings('ignore') # menghilangkan warning"
      ]
    },
    {
      "cell_type": "code",
      "source": [
        "# menggunakan gaya visualisasi five thirtyeheight\n",
        "plt.style.use('fivethirtyeight')\n",
        "\n",
        "# mengatur gaya seaborn dengan latar grid putih\n",
        "sns.set(style='whitegrid')"
      ],
      "metadata": {
        "id": "L2P5upfVqW6r"
      },
      "execution_count": 2,
      "outputs": []
    },
    {
      "cell_type": "markdown",
      "source": [
        "# **2. Data Understanding**"
      ],
      "metadata": {
        "id": "VO9921DJqZt7"
      }
    },
    {
      "cell_type": "code",
      "source": [
        "# membaca data dari file csv ke dalam DataFrame\n",
        "df = pd.read_csv('milknew.csv')\n",
        "\n",
        "# menampilkan 5 baris pertama\n",
        "df.head()"
      ],
      "metadata": {
        "colab": {
          "base_uri": "https://localhost:8080/",
          "height": 206
        },
        "id": "hWNgGsIJqZXD",
        "outputId": "18f71f88-91b1-47bb-aa96-49b8b3e93c7c"
      },
      "execution_count": 3,
      "outputs": [
        {
          "output_type": "execute_result",
          "data": {
            "text/plain": [
              "    pH  Temprature  Taste  Odor  Fat   Turbidity  Colour   Grade\n",
              "0  6.6          35      1     0     1          0     254    high\n",
              "1  6.6          36      0     1     0          1     253    high\n",
              "2  8.5          70      1     1     1          1     246     low\n",
              "3  9.5          34      1     1     0          1     255     low\n",
              "4  6.6          37      0     0     0          0     255  medium"
            ],
            "text/html": [
              "\n",
              "  <div id=\"df-3bec381c-e8ac-4a6e-b21b-eeebc29674a4\" class=\"colab-df-container\">\n",
              "    <div>\n",
              "<style scoped>\n",
              "    .dataframe tbody tr th:only-of-type {\n",
              "        vertical-align: middle;\n",
              "    }\n",
              "\n",
              "    .dataframe tbody tr th {\n",
              "        vertical-align: top;\n",
              "    }\n",
              "\n",
              "    .dataframe thead th {\n",
              "        text-align: right;\n",
              "    }\n",
              "</style>\n",
              "<table border=\"1\" class=\"dataframe\">\n",
              "  <thead>\n",
              "    <tr style=\"text-align: right;\">\n",
              "      <th></th>\n",
              "      <th>pH</th>\n",
              "      <th>Temprature</th>\n",
              "      <th>Taste</th>\n",
              "      <th>Odor</th>\n",
              "      <th>Fat</th>\n",
              "      <th>Turbidity</th>\n",
              "      <th>Colour</th>\n",
              "      <th>Grade</th>\n",
              "    </tr>\n",
              "  </thead>\n",
              "  <tbody>\n",
              "    <tr>\n",
              "      <th>0</th>\n",
              "      <td>6.6</td>\n",
              "      <td>35</td>\n",
              "      <td>1</td>\n",
              "      <td>0</td>\n",
              "      <td>1</td>\n",
              "      <td>0</td>\n",
              "      <td>254</td>\n",
              "      <td>high</td>\n",
              "    </tr>\n",
              "    <tr>\n",
              "      <th>1</th>\n",
              "      <td>6.6</td>\n",
              "      <td>36</td>\n",
              "      <td>0</td>\n",
              "      <td>1</td>\n",
              "      <td>0</td>\n",
              "      <td>1</td>\n",
              "      <td>253</td>\n",
              "      <td>high</td>\n",
              "    </tr>\n",
              "    <tr>\n",
              "      <th>2</th>\n",
              "      <td>8.5</td>\n",
              "      <td>70</td>\n",
              "      <td>1</td>\n",
              "      <td>1</td>\n",
              "      <td>1</td>\n",
              "      <td>1</td>\n",
              "      <td>246</td>\n",
              "      <td>low</td>\n",
              "    </tr>\n",
              "    <tr>\n",
              "      <th>3</th>\n",
              "      <td>9.5</td>\n",
              "      <td>34</td>\n",
              "      <td>1</td>\n",
              "      <td>1</td>\n",
              "      <td>0</td>\n",
              "      <td>1</td>\n",
              "      <td>255</td>\n",
              "      <td>low</td>\n",
              "    </tr>\n",
              "    <tr>\n",
              "      <th>4</th>\n",
              "      <td>6.6</td>\n",
              "      <td>37</td>\n",
              "      <td>0</td>\n",
              "      <td>0</td>\n",
              "      <td>0</td>\n",
              "      <td>0</td>\n",
              "      <td>255</td>\n",
              "      <td>medium</td>\n",
              "    </tr>\n",
              "  </tbody>\n",
              "</table>\n",
              "</div>\n",
              "    <div class=\"colab-df-buttons\">\n",
              "\n",
              "  <div class=\"colab-df-container\">\n",
              "    <button class=\"colab-df-convert\" onclick=\"convertToInteractive('df-3bec381c-e8ac-4a6e-b21b-eeebc29674a4')\"\n",
              "            title=\"Convert this dataframe to an interactive table.\"\n",
              "            style=\"display:none;\">\n",
              "\n",
              "  <svg xmlns=\"http://www.w3.org/2000/svg\" height=\"24px\" viewBox=\"0 -960 960 960\">\n",
              "    <path d=\"M120-120v-720h720v720H120Zm60-500h600v-160H180v160Zm220 220h160v-160H400v160Zm0 220h160v-160H400v160ZM180-400h160v-160H180v160Zm440 0h160v-160H620v160ZM180-180h160v-160H180v160Zm440 0h160v-160H620v160Z\"/>\n",
              "  </svg>\n",
              "    </button>\n",
              "\n",
              "  <style>\n",
              "    .colab-df-container {\n",
              "      display:flex;\n",
              "      gap: 12px;\n",
              "    }\n",
              "\n",
              "    .colab-df-convert {\n",
              "      background-color: #E8F0FE;\n",
              "      border: none;\n",
              "      border-radius: 50%;\n",
              "      cursor: pointer;\n",
              "      display: none;\n",
              "      fill: #1967D2;\n",
              "      height: 32px;\n",
              "      padding: 0 0 0 0;\n",
              "      width: 32px;\n",
              "    }\n",
              "\n",
              "    .colab-df-convert:hover {\n",
              "      background-color: #E2EBFA;\n",
              "      box-shadow: 0px 1px 2px rgba(60, 64, 67, 0.3), 0px 1px 3px 1px rgba(60, 64, 67, 0.15);\n",
              "      fill: #174EA6;\n",
              "    }\n",
              "\n",
              "    .colab-df-buttons div {\n",
              "      margin-bottom: 4px;\n",
              "    }\n",
              "\n",
              "    [theme=dark] .colab-df-convert {\n",
              "      background-color: #3B4455;\n",
              "      fill: #D2E3FC;\n",
              "    }\n",
              "\n",
              "    [theme=dark] .colab-df-convert:hover {\n",
              "      background-color: #434B5C;\n",
              "      box-shadow: 0px 1px 3px 1px rgba(0, 0, 0, 0.15);\n",
              "      filter: drop-shadow(0px 1px 2px rgba(0, 0, 0, 0.3));\n",
              "      fill: #FFFFFF;\n",
              "    }\n",
              "  </style>\n",
              "\n",
              "    <script>\n",
              "      const buttonEl =\n",
              "        document.querySelector('#df-3bec381c-e8ac-4a6e-b21b-eeebc29674a4 button.colab-df-convert');\n",
              "      buttonEl.style.display =\n",
              "        google.colab.kernel.accessAllowed ? 'block' : 'none';\n",
              "\n",
              "      async function convertToInteractive(key) {\n",
              "        const element = document.querySelector('#df-3bec381c-e8ac-4a6e-b21b-eeebc29674a4');\n",
              "        const dataTable =\n",
              "          await google.colab.kernel.invokeFunction('convertToInteractive',\n",
              "                                                    [key], {});\n",
              "        if (!dataTable) return;\n",
              "\n",
              "        const docLinkHtml = 'Like what you see? Visit the ' +\n",
              "          '<a target=\"_blank\" href=https://colab.research.google.com/notebooks/data_table.ipynb>data table notebook</a>'\n",
              "          + ' to learn more about interactive tables.';\n",
              "        element.innerHTML = '';\n",
              "        dataTable['output_type'] = 'display_data';\n",
              "        await google.colab.output.renderOutput(dataTable, element);\n",
              "        const docLink = document.createElement('div');\n",
              "        docLink.innerHTML = docLinkHtml;\n",
              "        element.appendChild(docLink);\n",
              "      }\n",
              "    </script>\n",
              "  </div>\n",
              "\n",
              "\n",
              "    <div id=\"df-5f28c58b-9d42-4b96-84ea-4b66588a9db2\">\n",
              "      <button class=\"colab-df-quickchart\" onclick=\"quickchart('df-5f28c58b-9d42-4b96-84ea-4b66588a9db2')\"\n",
              "                title=\"Suggest charts\"\n",
              "                style=\"display:none;\">\n",
              "\n",
              "<svg xmlns=\"http://www.w3.org/2000/svg\" height=\"24px\"viewBox=\"0 0 24 24\"\n",
              "     width=\"24px\">\n",
              "    <g>\n",
              "        <path d=\"M19 3H5c-1.1 0-2 .9-2 2v14c0 1.1.9 2 2 2h14c1.1 0 2-.9 2-2V5c0-1.1-.9-2-2-2zM9 17H7v-7h2v7zm4 0h-2V7h2v10zm4 0h-2v-4h2v4z\"/>\n",
              "    </g>\n",
              "</svg>\n",
              "      </button>\n",
              "\n",
              "<style>\n",
              "  .colab-df-quickchart {\n",
              "      --bg-color: #E8F0FE;\n",
              "      --fill-color: #1967D2;\n",
              "      --hover-bg-color: #E2EBFA;\n",
              "      --hover-fill-color: #174EA6;\n",
              "      --disabled-fill-color: #AAA;\n",
              "      --disabled-bg-color: #DDD;\n",
              "  }\n",
              "\n",
              "  [theme=dark] .colab-df-quickchart {\n",
              "      --bg-color: #3B4455;\n",
              "      --fill-color: #D2E3FC;\n",
              "      --hover-bg-color: #434B5C;\n",
              "      --hover-fill-color: #FFFFFF;\n",
              "      --disabled-bg-color: #3B4455;\n",
              "      --disabled-fill-color: #666;\n",
              "  }\n",
              "\n",
              "  .colab-df-quickchart {\n",
              "    background-color: var(--bg-color);\n",
              "    border: none;\n",
              "    border-radius: 50%;\n",
              "    cursor: pointer;\n",
              "    display: none;\n",
              "    fill: var(--fill-color);\n",
              "    height: 32px;\n",
              "    padding: 0;\n",
              "    width: 32px;\n",
              "  }\n",
              "\n",
              "  .colab-df-quickchart:hover {\n",
              "    background-color: var(--hover-bg-color);\n",
              "    box-shadow: 0 1px 2px rgba(60, 64, 67, 0.3), 0 1px 3px 1px rgba(60, 64, 67, 0.15);\n",
              "    fill: var(--button-hover-fill-color);\n",
              "  }\n",
              "\n",
              "  .colab-df-quickchart-complete:disabled,\n",
              "  .colab-df-quickchart-complete:disabled:hover {\n",
              "    background-color: var(--disabled-bg-color);\n",
              "    fill: var(--disabled-fill-color);\n",
              "    box-shadow: none;\n",
              "  }\n",
              "\n",
              "  .colab-df-spinner {\n",
              "    border: 2px solid var(--fill-color);\n",
              "    border-color: transparent;\n",
              "    border-bottom-color: var(--fill-color);\n",
              "    animation:\n",
              "      spin 1s steps(1) infinite;\n",
              "  }\n",
              "\n",
              "  @keyframes spin {\n",
              "    0% {\n",
              "      border-color: transparent;\n",
              "      border-bottom-color: var(--fill-color);\n",
              "      border-left-color: var(--fill-color);\n",
              "    }\n",
              "    20% {\n",
              "      border-color: transparent;\n",
              "      border-left-color: var(--fill-color);\n",
              "      border-top-color: var(--fill-color);\n",
              "    }\n",
              "    30% {\n",
              "      border-color: transparent;\n",
              "      border-left-color: var(--fill-color);\n",
              "      border-top-color: var(--fill-color);\n",
              "      border-right-color: var(--fill-color);\n",
              "    }\n",
              "    40% {\n",
              "      border-color: transparent;\n",
              "      border-right-color: var(--fill-color);\n",
              "      border-top-color: var(--fill-color);\n",
              "    }\n",
              "    60% {\n",
              "      border-color: transparent;\n",
              "      border-right-color: var(--fill-color);\n",
              "    }\n",
              "    80% {\n",
              "      border-color: transparent;\n",
              "      border-right-color: var(--fill-color);\n",
              "      border-bottom-color: var(--fill-color);\n",
              "    }\n",
              "    90% {\n",
              "      border-color: transparent;\n",
              "      border-bottom-color: var(--fill-color);\n",
              "    }\n",
              "  }\n",
              "</style>\n",
              "\n",
              "      <script>\n",
              "        async function quickchart(key) {\n",
              "          const quickchartButtonEl =\n",
              "            document.querySelector('#' + key + ' button');\n",
              "          quickchartButtonEl.disabled = true;  // To prevent multiple clicks.\n",
              "          quickchartButtonEl.classList.add('colab-df-spinner');\n",
              "          try {\n",
              "            const charts = await google.colab.kernel.invokeFunction(\n",
              "                'suggestCharts', [key], {});\n",
              "          } catch (error) {\n",
              "            console.error('Error during call to suggestCharts:', error);\n",
              "          }\n",
              "          quickchartButtonEl.classList.remove('colab-df-spinner');\n",
              "          quickchartButtonEl.classList.add('colab-df-quickchart-complete');\n",
              "        }\n",
              "        (() => {\n",
              "          let quickchartButtonEl =\n",
              "            document.querySelector('#df-5f28c58b-9d42-4b96-84ea-4b66588a9db2 button');\n",
              "          quickchartButtonEl.style.display =\n",
              "            google.colab.kernel.accessAllowed ? 'block' : 'none';\n",
              "        })();\n",
              "      </script>\n",
              "    </div>\n",
              "\n",
              "    </div>\n",
              "  </div>\n"
            ],
            "application/vnd.google.colaboratory.intrinsic+json": {
              "type": "dataframe",
              "variable_name": "df",
              "summary": "{\n  \"name\": \"df\",\n  \"rows\": 1059,\n  \"fields\": [\n    {\n      \"column\": \"pH\",\n      \"properties\": {\n        \"dtype\": \"number\",\n        \"std\": 1.3996789680672632,\n        \"min\": 3.0,\n        \"max\": 9.5,\n        \"num_unique_values\": 16,\n        \"samples\": [\n          6.6,\n          8.5,\n          8.1\n        ],\n        \"semantic_type\": \"\",\n        \"description\": \"\"\n      }\n    },\n    {\n      \"column\": \"Temprature\",\n      \"properties\": {\n        \"dtype\": \"number\",\n        \"std\": 10,\n        \"min\": 34,\n        \"max\": 90,\n        \"num_unique_values\": 17,\n        \"samples\": [\n          35,\n          36,\n          45\n        ],\n        \"semantic_type\": \"\",\n        \"description\": \"\"\n      }\n    },\n    {\n      \"column\": \"Taste\",\n      \"properties\": {\n        \"dtype\": \"number\",\n        \"std\": 0,\n        \"min\": 0,\n        \"max\": 1,\n        \"num_unique_values\": 2,\n        \"samples\": [\n          0,\n          1\n        ],\n        \"semantic_type\": \"\",\n        \"description\": \"\"\n      }\n    },\n    {\n      \"column\": \"Odor\",\n      \"properties\": {\n        \"dtype\": \"number\",\n        \"std\": 0,\n        \"min\": 0,\n        \"max\": 1,\n        \"num_unique_values\": 2,\n        \"samples\": [\n          1,\n          0\n        ],\n        \"semantic_type\": \"\",\n        \"description\": \"\"\n      }\n    },\n    {\n      \"column\": \"Fat \",\n      \"properties\": {\n        \"dtype\": \"number\",\n        \"std\": 0,\n        \"min\": 0,\n        \"max\": 1,\n        \"num_unique_values\": 2,\n        \"samples\": [\n          0,\n          1\n        ],\n        \"semantic_type\": \"\",\n        \"description\": \"\"\n      }\n    },\n    {\n      \"column\": \"Turbidity\",\n      \"properties\": {\n        \"dtype\": \"number\",\n        \"std\": 0,\n        \"min\": 0,\n        \"max\": 1,\n        \"num_unique_values\": 2,\n        \"samples\": [\n          1,\n          0\n        ],\n        \"semantic_type\": \"\",\n        \"description\": \"\"\n      }\n    },\n    {\n      \"column\": \"Colour\",\n      \"properties\": {\n        \"dtype\": \"number\",\n        \"std\": 4,\n        \"min\": 240,\n        \"max\": 255,\n        \"num_unique_values\": 9,\n        \"samples\": [\n          240,\n          253\n        ],\n        \"semantic_type\": \"\",\n        \"description\": \"\"\n      }\n    },\n    {\n      \"column\": \"Grade\",\n      \"properties\": {\n        \"dtype\": \"category\",\n        \"num_unique_values\": 3,\n        \"samples\": [\n          \"high\",\n          \"low\"\n        ],\n        \"semantic_type\": \"\",\n        \"description\": \"\"\n      }\n    }\n  ]\n}"
            }
          },
          "metadata": {},
          "execution_count": 3
        }
      ]
    },
    {
      "cell_type": "markdown",
      "source": [
        "**Keterangan**\n",
        "\n",
        "- **pH         :** Tingkat keasaman susu\n",
        "- **Temprature :** Suhu susu saat pengukuran\n",
        "- **Taste      :** Indikator rasa  (0 = tidak enak, 1 = enak)\n",
        "- **Odor       :** Indikator bau (0 = bau tidak sedap, 1 = normal)\n",
        "- **Fat        :** Kandungan lemak (0 = rendah, 1 = tinggi)\n",
        "- **Turbidity  :** Kekeruhan (0 = rendah, 1 = tinggi)\n",
        "- **Colour     :** Nilai intensitas warna susu\n",
        "- **Grade      :** Kualitas susu (low, medium, high)"
      ],
      "metadata": {
        "id": "txOfpETt5NKe"
      }
    },
    {
      "cell_type": "code",
      "source": [
        "# menampilkan jumlah baris dan kolom dalam DataFrame\n",
        "df.shape"
      ],
      "metadata": {
        "colab": {
          "base_uri": "https://localhost:8080/"
        },
        "id": "IVLvSju0qvzM",
        "outputId": "8e3dd07a-672d-4d5f-9d85-da2096bd4afa"
      },
      "execution_count": 4,
      "outputs": [
        {
          "output_type": "execute_result",
          "data": {
            "text/plain": [
              "(1059, 8)"
            ]
          },
          "metadata": {},
          "execution_count": 4
        }
      ]
    },
    {
      "cell_type": "markdown",
      "source": [
        "Dataset memiliki 1059 baris dan 8 kolom."
      ],
      "metadata": {
        "id": "FlMPlfJL5_Oj"
      }
    },
    {
      "cell_type": "code",
      "source": [
        "# menampilkan informasi ringkas tentang DataFrame\n",
        "df.info()"
      ],
      "metadata": {
        "colab": {
          "base_uri": "https://localhost:8080/"
        },
        "id": "eux-jSZ_qsN9",
        "outputId": "13eeb8a0-3ad2-43e0-edf5-1d89b5581777"
      },
      "execution_count": 5,
      "outputs": [
        {
          "output_type": "stream",
          "name": "stdout",
          "text": [
            "<class 'pandas.core.frame.DataFrame'>\n",
            "RangeIndex: 1059 entries, 0 to 1058\n",
            "Data columns (total 8 columns):\n",
            " #   Column      Non-Null Count  Dtype  \n",
            "---  ------      --------------  -----  \n",
            " 0   pH          1059 non-null   float64\n",
            " 1   Temprature  1059 non-null   int64  \n",
            " 2   Taste       1059 non-null   int64  \n",
            " 3   Odor        1059 non-null   int64  \n",
            " 4   Fat         1059 non-null   int64  \n",
            " 5   Turbidity   1059 non-null   int64  \n",
            " 6   Colour      1059 non-null   int64  \n",
            " 7   Grade       1059 non-null   object \n",
            "dtypes: float64(1), int64(6), object(1)\n",
            "memory usage: 66.3+ KB\n"
          ]
        }
      ]
    },
    {
      "cell_type": "markdown",
      "source": [
        "Semua kolom memiliki data lengkap (tidak ada missing values)."
      ],
      "metadata": {
        "id": "9g9E-_iR6KTj"
      }
    },
    {
      "cell_type": "code",
      "source": [
        "# menampilkan statistik deskriptif untuk kolom numerik\n",
        "df.describe()"
      ],
      "metadata": {
        "colab": {
          "base_uri": "https://localhost:8080/",
          "height": 300
        },
        "id": "LXQ2qJeTq6iW",
        "outputId": "de3e3871-6a97-4a4a-9cd9-c36ceac8fd24"
      },
      "execution_count": 6,
      "outputs": [
        {
          "output_type": "execute_result",
          "data": {
            "text/plain": [
              "                pH   Temprature        Taste         Odor         Fat   \\\n",
              "count  1059.000000  1059.000000  1059.000000  1059.000000  1059.000000   \n",
              "mean      6.630123    44.226629     0.546742     0.432483     0.671388   \n",
              "std       1.399679    10.098364     0.498046     0.495655     0.469930   \n",
              "min       3.000000    34.000000     0.000000     0.000000     0.000000   \n",
              "25%       6.500000    38.000000     0.000000     0.000000     0.000000   \n",
              "50%       6.700000    41.000000     1.000000     0.000000     1.000000   \n",
              "75%       6.800000    45.000000     1.000000     1.000000     1.000000   \n",
              "max       9.500000    90.000000     1.000000     1.000000     1.000000   \n",
              "\n",
              "         Turbidity       Colour  \n",
              "count  1059.000000  1059.000000  \n",
              "mean      0.491029   251.840415  \n",
              "std       0.500156     4.307424  \n",
              "min       0.000000   240.000000  \n",
              "25%       0.000000   250.000000  \n",
              "50%       0.000000   255.000000  \n",
              "75%       1.000000   255.000000  \n",
              "max       1.000000   255.000000  "
            ],
            "text/html": [
              "\n",
              "  <div id=\"df-f4957001-ddc6-4b66-946d-541747014b4d\" class=\"colab-df-container\">\n",
              "    <div>\n",
              "<style scoped>\n",
              "    .dataframe tbody tr th:only-of-type {\n",
              "        vertical-align: middle;\n",
              "    }\n",
              "\n",
              "    .dataframe tbody tr th {\n",
              "        vertical-align: top;\n",
              "    }\n",
              "\n",
              "    .dataframe thead th {\n",
              "        text-align: right;\n",
              "    }\n",
              "</style>\n",
              "<table border=\"1\" class=\"dataframe\">\n",
              "  <thead>\n",
              "    <tr style=\"text-align: right;\">\n",
              "      <th></th>\n",
              "      <th>pH</th>\n",
              "      <th>Temprature</th>\n",
              "      <th>Taste</th>\n",
              "      <th>Odor</th>\n",
              "      <th>Fat</th>\n",
              "      <th>Turbidity</th>\n",
              "      <th>Colour</th>\n",
              "    </tr>\n",
              "  </thead>\n",
              "  <tbody>\n",
              "    <tr>\n",
              "      <th>count</th>\n",
              "      <td>1059.000000</td>\n",
              "      <td>1059.000000</td>\n",
              "      <td>1059.000000</td>\n",
              "      <td>1059.000000</td>\n",
              "      <td>1059.000000</td>\n",
              "      <td>1059.000000</td>\n",
              "      <td>1059.000000</td>\n",
              "    </tr>\n",
              "    <tr>\n",
              "      <th>mean</th>\n",
              "      <td>6.630123</td>\n",
              "      <td>44.226629</td>\n",
              "      <td>0.546742</td>\n",
              "      <td>0.432483</td>\n",
              "      <td>0.671388</td>\n",
              "      <td>0.491029</td>\n",
              "      <td>251.840415</td>\n",
              "    </tr>\n",
              "    <tr>\n",
              "      <th>std</th>\n",
              "      <td>1.399679</td>\n",
              "      <td>10.098364</td>\n",
              "      <td>0.498046</td>\n",
              "      <td>0.495655</td>\n",
              "      <td>0.469930</td>\n",
              "      <td>0.500156</td>\n",
              "      <td>4.307424</td>\n",
              "    </tr>\n",
              "    <tr>\n",
              "      <th>min</th>\n",
              "      <td>3.000000</td>\n",
              "      <td>34.000000</td>\n",
              "      <td>0.000000</td>\n",
              "      <td>0.000000</td>\n",
              "      <td>0.000000</td>\n",
              "      <td>0.000000</td>\n",
              "      <td>240.000000</td>\n",
              "    </tr>\n",
              "    <tr>\n",
              "      <th>25%</th>\n",
              "      <td>6.500000</td>\n",
              "      <td>38.000000</td>\n",
              "      <td>0.000000</td>\n",
              "      <td>0.000000</td>\n",
              "      <td>0.000000</td>\n",
              "      <td>0.000000</td>\n",
              "      <td>250.000000</td>\n",
              "    </tr>\n",
              "    <tr>\n",
              "      <th>50%</th>\n",
              "      <td>6.700000</td>\n",
              "      <td>41.000000</td>\n",
              "      <td>1.000000</td>\n",
              "      <td>0.000000</td>\n",
              "      <td>1.000000</td>\n",
              "      <td>0.000000</td>\n",
              "      <td>255.000000</td>\n",
              "    </tr>\n",
              "    <tr>\n",
              "      <th>75%</th>\n",
              "      <td>6.800000</td>\n",
              "      <td>45.000000</td>\n",
              "      <td>1.000000</td>\n",
              "      <td>1.000000</td>\n",
              "      <td>1.000000</td>\n",
              "      <td>1.000000</td>\n",
              "      <td>255.000000</td>\n",
              "    </tr>\n",
              "    <tr>\n",
              "      <th>max</th>\n",
              "      <td>9.500000</td>\n",
              "      <td>90.000000</td>\n",
              "      <td>1.000000</td>\n",
              "      <td>1.000000</td>\n",
              "      <td>1.000000</td>\n",
              "      <td>1.000000</td>\n",
              "      <td>255.000000</td>\n",
              "    </tr>\n",
              "  </tbody>\n",
              "</table>\n",
              "</div>\n",
              "    <div class=\"colab-df-buttons\">\n",
              "\n",
              "  <div class=\"colab-df-container\">\n",
              "    <button class=\"colab-df-convert\" onclick=\"convertToInteractive('df-f4957001-ddc6-4b66-946d-541747014b4d')\"\n",
              "            title=\"Convert this dataframe to an interactive table.\"\n",
              "            style=\"display:none;\">\n",
              "\n",
              "  <svg xmlns=\"http://www.w3.org/2000/svg\" height=\"24px\" viewBox=\"0 -960 960 960\">\n",
              "    <path d=\"M120-120v-720h720v720H120Zm60-500h600v-160H180v160Zm220 220h160v-160H400v160Zm0 220h160v-160H400v160ZM180-400h160v-160H180v160Zm440 0h160v-160H620v160ZM180-180h160v-160H180v160Zm440 0h160v-160H620v160Z\"/>\n",
              "  </svg>\n",
              "    </button>\n",
              "\n",
              "  <style>\n",
              "    .colab-df-container {\n",
              "      display:flex;\n",
              "      gap: 12px;\n",
              "    }\n",
              "\n",
              "    .colab-df-convert {\n",
              "      background-color: #E8F0FE;\n",
              "      border: none;\n",
              "      border-radius: 50%;\n",
              "      cursor: pointer;\n",
              "      display: none;\n",
              "      fill: #1967D2;\n",
              "      height: 32px;\n",
              "      padding: 0 0 0 0;\n",
              "      width: 32px;\n",
              "    }\n",
              "\n",
              "    .colab-df-convert:hover {\n",
              "      background-color: #E2EBFA;\n",
              "      box-shadow: 0px 1px 2px rgba(60, 64, 67, 0.3), 0px 1px 3px 1px rgba(60, 64, 67, 0.15);\n",
              "      fill: #174EA6;\n",
              "    }\n",
              "\n",
              "    .colab-df-buttons div {\n",
              "      margin-bottom: 4px;\n",
              "    }\n",
              "\n",
              "    [theme=dark] .colab-df-convert {\n",
              "      background-color: #3B4455;\n",
              "      fill: #D2E3FC;\n",
              "    }\n",
              "\n",
              "    [theme=dark] .colab-df-convert:hover {\n",
              "      background-color: #434B5C;\n",
              "      box-shadow: 0px 1px 3px 1px rgba(0, 0, 0, 0.15);\n",
              "      filter: drop-shadow(0px 1px 2px rgba(0, 0, 0, 0.3));\n",
              "      fill: #FFFFFF;\n",
              "    }\n",
              "  </style>\n",
              "\n",
              "    <script>\n",
              "      const buttonEl =\n",
              "        document.querySelector('#df-f4957001-ddc6-4b66-946d-541747014b4d button.colab-df-convert');\n",
              "      buttonEl.style.display =\n",
              "        google.colab.kernel.accessAllowed ? 'block' : 'none';\n",
              "\n",
              "      async function convertToInteractive(key) {\n",
              "        const element = document.querySelector('#df-f4957001-ddc6-4b66-946d-541747014b4d');\n",
              "        const dataTable =\n",
              "          await google.colab.kernel.invokeFunction('convertToInteractive',\n",
              "                                                    [key], {});\n",
              "        if (!dataTable) return;\n",
              "\n",
              "        const docLinkHtml = 'Like what you see? Visit the ' +\n",
              "          '<a target=\"_blank\" href=https://colab.research.google.com/notebooks/data_table.ipynb>data table notebook</a>'\n",
              "          + ' to learn more about interactive tables.';\n",
              "        element.innerHTML = '';\n",
              "        dataTable['output_type'] = 'display_data';\n",
              "        await google.colab.output.renderOutput(dataTable, element);\n",
              "        const docLink = document.createElement('div');\n",
              "        docLink.innerHTML = docLinkHtml;\n",
              "        element.appendChild(docLink);\n",
              "      }\n",
              "    </script>\n",
              "  </div>\n",
              "\n",
              "\n",
              "    <div id=\"df-5c561884-49de-4486-bed1-3ca53535fb24\">\n",
              "      <button class=\"colab-df-quickchart\" onclick=\"quickchart('df-5c561884-49de-4486-bed1-3ca53535fb24')\"\n",
              "                title=\"Suggest charts\"\n",
              "                style=\"display:none;\">\n",
              "\n",
              "<svg xmlns=\"http://www.w3.org/2000/svg\" height=\"24px\"viewBox=\"0 0 24 24\"\n",
              "     width=\"24px\">\n",
              "    <g>\n",
              "        <path d=\"M19 3H5c-1.1 0-2 .9-2 2v14c0 1.1.9 2 2 2h14c1.1 0 2-.9 2-2V5c0-1.1-.9-2-2-2zM9 17H7v-7h2v7zm4 0h-2V7h2v10zm4 0h-2v-4h2v4z\"/>\n",
              "    </g>\n",
              "</svg>\n",
              "      </button>\n",
              "\n",
              "<style>\n",
              "  .colab-df-quickchart {\n",
              "      --bg-color: #E8F0FE;\n",
              "      --fill-color: #1967D2;\n",
              "      --hover-bg-color: #E2EBFA;\n",
              "      --hover-fill-color: #174EA6;\n",
              "      --disabled-fill-color: #AAA;\n",
              "      --disabled-bg-color: #DDD;\n",
              "  }\n",
              "\n",
              "  [theme=dark] .colab-df-quickchart {\n",
              "      --bg-color: #3B4455;\n",
              "      --fill-color: #D2E3FC;\n",
              "      --hover-bg-color: #434B5C;\n",
              "      --hover-fill-color: #FFFFFF;\n",
              "      --disabled-bg-color: #3B4455;\n",
              "      --disabled-fill-color: #666;\n",
              "  }\n",
              "\n",
              "  .colab-df-quickchart {\n",
              "    background-color: var(--bg-color);\n",
              "    border: none;\n",
              "    border-radius: 50%;\n",
              "    cursor: pointer;\n",
              "    display: none;\n",
              "    fill: var(--fill-color);\n",
              "    height: 32px;\n",
              "    padding: 0;\n",
              "    width: 32px;\n",
              "  }\n",
              "\n",
              "  .colab-df-quickchart:hover {\n",
              "    background-color: var(--hover-bg-color);\n",
              "    box-shadow: 0 1px 2px rgba(60, 64, 67, 0.3), 0 1px 3px 1px rgba(60, 64, 67, 0.15);\n",
              "    fill: var(--button-hover-fill-color);\n",
              "  }\n",
              "\n",
              "  .colab-df-quickchart-complete:disabled,\n",
              "  .colab-df-quickchart-complete:disabled:hover {\n",
              "    background-color: var(--disabled-bg-color);\n",
              "    fill: var(--disabled-fill-color);\n",
              "    box-shadow: none;\n",
              "  }\n",
              "\n",
              "  .colab-df-spinner {\n",
              "    border: 2px solid var(--fill-color);\n",
              "    border-color: transparent;\n",
              "    border-bottom-color: var(--fill-color);\n",
              "    animation:\n",
              "      spin 1s steps(1) infinite;\n",
              "  }\n",
              "\n",
              "  @keyframes spin {\n",
              "    0% {\n",
              "      border-color: transparent;\n",
              "      border-bottom-color: var(--fill-color);\n",
              "      border-left-color: var(--fill-color);\n",
              "    }\n",
              "    20% {\n",
              "      border-color: transparent;\n",
              "      border-left-color: var(--fill-color);\n",
              "      border-top-color: var(--fill-color);\n",
              "    }\n",
              "    30% {\n",
              "      border-color: transparent;\n",
              "      border-left-color: var(--fill-color);\n",
              "      border-top-color: var(--fill-color);\n",
              "      border-right-color: var(--fill-color);\n",
              "    }\n",
              "    40% {\n",
              "      border-color: transparent;\n",
              "      border-right-color: var(--fill-color);\n",
              "      border-top-color: var(--fill-color);\n",
              "    }\n",
              "    60% {\n",
              "      border-color: transparent;\n",
              "      border-right-color: var(--fill-color);\n",
              "    }\n",
              "    80% {\n",
              "      border-color: transparent;\n",
              "      border-right-color: var(--fill-color);\n",
              "      border-bottom-color: var(--fill-color);\n",
              "    }\n",
              "    90% {\n",
              "      border-color: transparent;\n",
              "      border-bottom-color: var(--fill-color);\n",
              "    }\n",
              "  }\n",
              "</style>\n",
              "\n",
              "      <script>\n",
              "        async function quickchart(key) {\n",
              "          const quickchartButtonEl =\n",
              "            document.querySelector('#' + key + ' button');\n",
              "          quickchartButtonEl.disabled = true;  // To prevent multiple clicks.\n",
              "          quickchartButtonEl.classList.add('colab-df-spinner');\n",
              "          try {\n",
              "            const charts = await google.colab.kernel.invokeFunction(\n",
              "                'suggestCharts', [key], {});\n",
              "          } catch (error) {\n",
              "            console.error('Error during call to suggestCharts:', error);\n",
              "          }\n",
              "          quickchartButtonEl.classList.remove('colab-df-spinner');\n",
              "          quickchartButtonEl.classList.add('colab-df-quickchart-complete');\n",
              "        }\n",
              "        (() => {\n",
              "          let quickchartButtonEl =\n",
              "            document.querySelector('#df-5c561884-49de-4486-bed1-3ca53535fb24 button');\n",
              "          quickchartButtonEl.style.display =\n",
              "            google.colab.kernel.accessAllowed ? 'block' : 'none';\n",
              "        })();\n",
              "      </script>\n",
              "    </div>\n",
              "\n",
              "    </div>\n",
              "  </div>\n"
            ],
            "application/vnd.google.colaboratory.intrinsic+json": {
              "type": "dataframe",
              "summary": "{\n  \"name\": \"df\",\n  \"rows\": 8,\n  \"fields\": [\n    {\n      \"column\": \"pH\",\n      \"properties\": {\n        \"dtype\": \"number\",\n        \"std\": 372.37439387927606,\n        \"min\": 1.3996789680672632,\n        \"max\": 1059.0,\n        \"num_unique_values\": 8,\n        \"samples\": [\n          6.630122757318224,\n          6.7,\n          1059.0\n        ],\n        \"semantic_type\": \"\",\n        \"description\": \"\"\n      }\n    },\n    {\n      \"column\": \"Temprature\",\n      \"properties\": {\n        \"dtype\": \"number\",\n        \"std\": 359.8202437668467,\n        \"min\": 10.09836354001717,\n        \"max\": 1059.0,\n        \"num_unique_values\": 8,\n        \"samples\": [\n          44.226628895184135,\n          41.0,\n          1059.0\n        ],\n        \"semantic_type\": \"\",\n        \"description\": \"\"\n      }\n    },\n    {\n      \"column\": \"Taste\",\n      \"properties\": {\n        \"dtype\": \"number\",\n        \"std\": 374.2089789278734,\n        \"min\": 0.0,\n        \"max\": 1059.0,\n        \"num_unique_values\": 5,\n        \"samples\": [\n          0.546742209631728,\n          1.0,\n          0.4980455759005691\n        ],\n        \"semantic_type\": \"\",\n        \"description\": \"\"\n      }\n    },\n    {\n      \"column\": \"Odor\",\n      \"properties\": {\n        \"dtype\": \"number\",\n        \"std\": 374.2653778508677,\n        \"min\": 0.0,\n        \"max\": 1059.0,\n        \"num_unique_values\": 5,\n        \"samples\": [\n          0.43248347497639283,\n          1.0,\n          0.4956546228589498\n        ],\n        \"semantic_type\": \"\",\n        \"description\": \"\"\n      }\n    },\n    {\n      \"column\": \"Fat \",\n      \"properties\": {\n        \"dtype\": \"number\",\n        \"std\": 374.20410562931824,\n        \"min\": 0.0,\n        \"max\": 1059.0,\n        \"num_unique_values\": 5,\n        \"samples\": [\n          0.6713881019830028,\n          1.0,\n          0.46993047336983335\n        ],\n        \"semantic_type\": \"\",\n        \"description\": \"\"\n      }\n    },\n    {\n      \"column\": \"Turbidity\",\n      \"properties\": {\n        \"dtype\": \"number\",\n        \"std\": 374.2621945031115,\n        \"min\": 0.0,\n        \"max\": 1059.0,\n        \"num_unique_values\": 5,\n        \"samples\": [\n          0.4910292728989613,\n          1.0,\n          0.5001557206400603\n        ],\n        \"semantic_type\": \"\",\n        \"description\": \"\"\n      }\n    },\n    {\n      \"column\": \"Colour\",\n      \"properties\": {\n        \"dtype\": \"number\",\n        \"std\": 310.389308312723,\n        \"min\": 4.307424264797001,\n        \"max\": 1059.0,\n        \"num_unique_values\": 6,\n        \"samples\": [\n          1059.0,\n          251.84041548630785,\n          255.0\n        ],\n        \"semantic_type\": \"\",\n        \"description\": \"\"\n      }\n    }\n  ]\n}"
            }
          },
          "metadata": {},
          "execution_count": 6
        }
      ]
    },
    {
      "cell_type": "markdown",
      "source": [
        "Keterangan\n",
        "\n",
        "- **count :** Jumlah data (1059 untuk semua kolom)\n",
        "- **mean  :** Rata-rata (contoh: pH ~6.63, Temperatur ~44.2°C)\n",
        "- **std   :** Simpangan baku (variabilitas data)\n",
        "- **min   :** Nilai minimum (misal pH = 3.0)\n",
        "- **25%   :** Kuartil pertama (batas 25% data terbawah)\n",
        "- **50%   :** Median (kuartil kedua / tengah)\n",
        "- **75%   :** Kuartil ketiga (batas 25% data teratas)\n",
        "- **max   :** Nilai maksimum"
      ],
      "metadata": {
        "id": "QXRStoqI6n8m"
      }
    },
    {
      "cell_type": "code",
      "source": [
        "# mengecek jumlah nilai kosong di setiap kolom\n",
        "df.isnull().sum()"
      ],
      "metadata": {
        "colab": {
          "base_uri": "https://localhost:8080/",
          "height": 335
        },
        "id": "ZcagTRlDq_Ko",
        "outputId": "1fd88a8c-f3e4-4cb2-f425-612c079079b0"
      },
      "execution_count": 7,
      "outputs": [
        {
          "output_type": "execute_result",
          "data": {
            "text/plain": [
              "pH            0\n",
              "Temprature    0\n",
              "Taste         0\n",
              "Odor          0\n",
              "Fat           0\n",
              "Turbidity     0\n",
              "Colour        0\n",
              "Grade         0\n",
              "dtype: int64"
            ],
            "text/html": [
              "<div>\n",
              "<style scoped>\n",
              "    .dataframe tbody tr th:only-of-type {\n",
              "        vertical-align: middle;\n",
              "    }\n",
              "\n",
              "    .dataframe tbody tr th {\n",
              "        vertical-align: top;\n",
              "    }\n",
              "\n",
              "    .dataframe thead th {\n",
              "        text-align: right;\n",
              "    }\n",
              "</style>\n",
              "<table border=\"1\" class=\"dataframe\">\n",
              "  <thead>\n",
              "    <tr style=\"text-align: right;\">\n",
              "      <th></th>\n",
              "      <th>0</th>\n",
              "    </tr>\n",
              "  </thead>\n",
              "  <tbody>\n",
              "    <tr>\n",
              "      <th>pH</th>\n",
              "      <td>0</td>\n",
              "    </tr>\n",
              "    <tr>\n",
              "      <th>Temprature</th>\n",
              "      <td>0</td>\n",
              "    </tr>\n",
              "    <tr>\n",
              "      <th>Taste</th>\n",
              "      <td>0</td>\n",
              "    </tr>\n",
              "    <tr>\n",
              "      <th>Odor</th>\n",
              "      <td>0</td>\n",
              "    </tr>\n",
              "    <tr>\n",
              "      <th>Fat</th>\n",
              "      <td>0</td>\n",
              "    </tr>\n",
              "    <tr>\n",
              "      <th>Turbidity</th>\n",
              "      <td>0</td>\n",
              "    </tr>\n",
              "    <tr>\n",
              "      <th>Colour</th>\n",
              "      <td>0</td>\n",
              "    </tr>\n",
              "    <tr>\n",
              "      <th>Grade</th>\n",
              "      <td>0</td>\n",
              "    </tr>\n",
              "  </tbody>\n",
              "</table>\n",
              "</div><br><label><b>dtype:</b> int64</label>"
            ]
          },
          "metadata": {},
          "execution_count": 7
        }
      ]
    },
    {
      "cell_type": "markdown",
      "source": [
        " Tidak ada nilai kosong di seluruh kolom dataset."
      ],
      "metadata": {
        "id": "n0Q68Uq-7EhD"
      }
    },
    {
      "cell_type": "code",
      "source": [
        "# membuat plot distribusi kelas susu\n",
        "plt.figure(figsize=(8, 6))\n",
        "grade_count = df['Grade'].value_counts().sort_index()   # menghitung dan mengurutukan jumlah data per kelas\n",
        "grade_count.plot(kind='bar', color='#4E6688')\n",
        "\n",
        "plt.title('Distribution of Milk Quality Grades')  # judul grafik\n",
        "plt.xlabel('Grade')  # label sumbu x\n",
        "plt.ylabel('Count')                               # label sumbu y\n",
        "plt.xticks(rotation=0)\n",
        "plt.tight_layout()\n",
        "\n",
        "# menampilkan grafik\n",
        "plt.show()"
      ],
      "metadata": {
        "colab": {
          "base_uri": "https://localhost:8080/",
          "height": 601
        },
        "id": "Xup7iKEhrBQA",
        "outputId": "b49e6ffa-90b7-4bb6-82f6-8b064edd36cf"
      },
      "execution_count": 15,
      "outputs": [
        {
          "output_type": "display_data",
          "data": {
            "text/plain": [
              "<Figure size 800x600 with 1 Axes>"
            ],
            "image/png": "[encoded data removed]"
          },
          "metadata": {}
        }
      ]
    },
    {
      "cell_type": "markdown",
      "source": [
        "**Keterangan**\n",
        "\n",
        "- Low berjumlah 429 sampel, menjadi kelas dengan jumlah data terbanyak.\n",
        "\n",
        "- Medium berjumlah 374 sampel.\n",
        "\n",
        "- High berjumlah 256 sampel, menjadi kelas dengan jumlah data paling sedikit."
      ],
      "metadata": {
        "id": "DhmRIOTY8ims"
      }
    },
    {
      "cell_type": "markdown",
      "source": [
        "# **3. Exploratory Data Analysis (EDA)**"
      ],
      "metadata": {
        "id": "WFJKW-N7rqtk"
      }
    },
    {
      "cell_type": "code",
      "source": [
        "# membuat grafik distribusi pH dan Temperature\n",
        "plt.figure(figsize=(12, 5))\n",
        "\n",
        "plt.subplot(1, 2, 1)\n",
        "sns.histplot(df['pH'], kde=True)  # plot histogram distribusi pH dengan kurva KDE\n",
        "plt.title('Distribution of pH')\n",
        "\n",
        "plt.subplot(1, 2, 2)\n",
        "sns.histplot(df['Temprature'], kde=True)  #  plot histogram distribusi Temperatur dengan kurva KDE\n",
        "plt.title('Distribution of Temperature')\n",
        "\n",
        "plt.tight_layout()\n",
        "plt.show()          # menampilkan grafik"
      ],
      "metadata": {
        "colab": {
          "base_uri": "https://localhost:8080/",
          "height": 501
        },
        "id": "23g0kRSDrw53",
        "outputId": "d3d30698-29ab-4cd2-bcb9-9cdcc848a827"
      },
      "execution_count": 9,
      "outputs": [
        {
          "output_type": "display_data",
          "data": {
            "text/plain": [
              "<Figure size 1200x500 with 2 Axes>"
            ],
            "image/png": "[encoded data removed]"
          },
          "metadata": {}
        }
      ]
    },
    {
      "cell_type": "markdown",
      "source": [
        "**Keterangan**\n",
        "\n",
        "Gambar Kiri (Distribusi pH)\n",
        "\n",
        "- Mayoritas sampel memiliki nilai pH antara 6-7, menunjukkan susu dalam kondisi normal.\n",
        "- Nilai di luar rentang tersebut menunjukkan potensi susu asam atau terkontaminasi.\n",
        "\n",
        "Gambar Kanan (Distribusi Temperature)\n",
        "\n",
        "- Sebagian besar sampel berada pada suhu 35-45°C, mencerminkan suhu standar penyimpanan atau pengolahan susu.\n",
        "- Nilai di atas 50°C menunjukkan kemungkinan pasteurisasi atau pemanasan."
      ],
      "metadata": {
        "id": "jNo_O6iM9HkY"
      }
    },
    {
      "cell_type": "code",
      "source": [
        "# membuat grafik distribusi pH dan Temperature terhadap kategori Grade\n",
        "plt.figure(figsize=(12, 5))\n",
        "\n",
        "plt.subplot(1, 2, 1)\n",
        "sns.boxplot(x='Grade', y='pH', data=df)\n",
        "plt.title('pH by Grade')\n",
        "plt.legend(title='Grade', labels=['Low', 'Medium', 'High'])\n",
        "\n",
        "plt.subplot(1, 2, 2)\n",
        "sns.boxplot(x='Grade', y='Temprature', data=df)\n",
        "plt.title('Temperature by Grade')\n",
        "plt.legend(title='Grade', labels=['Low', 'Medium', 'High'])\n",
        "\n",
        "plt.tight_layout()\n",
        "plt.show()"
      ],
      "metadata": {
        "colab": {
          "base_uri": "https://localhost:8080/",
          "height": 501
        },
        "id": "CghbZ2rvr6UR",
        "outputId": "5eb1042c-8a48-450f-9bde-65d6f422f9c5"
      },
      "execution_count": 13,
      "outputs": [
        {
          "output_type": "display_data",
          "data": {
            "text/plain": [
              "<Figure size 1200x500 with 2 Axes>"
            ],
            "image/png": "[encoded data removed]"
          },
          "metadata": {}
        }
      ]
    },
    {
      "cell_type": "markdown",
      "source": [
        "**Keterangan**\n",
        "\n",
        "Gambar Kiri (pH by Grade):\n",
        "- Grade Low memiliki variasi pH yang besar (3-9) dengan median sekitar 6.5.\n",
        "- Grade Medium dan High memiliki pH yang lebih stabil di kisaran 6-7.\n",
        "\n",
        "Gambar Kanan (Temperature by Grade):\n",
        "- Grade Low menunjukkan variasi temperatur yang besar (35-70°C) dengan outlier di 90°C.\n",
        "- Grade Medium dan High memiliki rentang temperatur lebih konsisten (35-45°C)."
      ],
      "metadata": {
        "id": "6JDjx5dR-okT"
      }
    },
    {
      "cell_type": "code",
      "source": [
        "# menampilkan grafik semua parameter terhadap grade\n",
        "categorical_features = ['Taste', 'Odor', 'Fat ', 'Turbidity', 'Colour']\n",
        "\n",
        "plt.figure(figsize=(15, 10))\n",
        "for i, feature in enumerate(categorical_features):\n",
        "    plt.subplot(2, 3, i+1)\n",
        "    sns.countplot(x=feature, hue='Grade', data=df)\n",
        "    plt.title(f'{feature} by Grade')\n",
        "    plt.xticks(rotation=0)\n",
        "    plt.legend(title='Grade', labels=['Low', 'Medium', 'High'])\n",
        "\n",
        "plt.tight_layout()\n",
        "plt.show()"
      ],
      "metadata": {
        "colab": {
          "base_uri": "https://localhost:8080/",
          "height": 1000
        },
        "id": "Sxp4koXFr6p2",
        "outputId": "c4b1d07c-7eab-49d2-80ee-eaeb86732543"
      },
      "execution_count": 14,
      "outputs": [
        {
          "output_type": "display_data",
          "data": {
            "text/plain": [
              "<Figure size 1500x1000 with 5 Axes>"
            ],
            "image/png": "[encoded data removed]"
          },
          "metadata": {}
        }
      ]
    },
    {
      "cell_type": "markdown",
      "source": [
        "**Keterangan**\n",
        "\n",
        "Taste by Grade\n",
        "- Taste 1 (enak) banyak ditemukan pada Grade (Low) dan Grade (High).\n",
        "- Taste 0 (tidak enak) lebih banyak pada Grade (Medium).\n",
        "\n",
        "Odor by Grade\n",
        "- Odor 0 (bau tidak sedap) mendominasi Grade (Medium) dan Grade (Low).\n",
        "- Odor 1 (normal) mendominasi Grade (High).\n",
        "\n",
        "Fat by Grade\n",
        "- Fat 0 (rendah) dominan di Grade (Medium).\n",
        "- Fat 1 (tinggi) lebih banyak muncul pada Grade (Low) dan Grade (High).\n",
        "\n",
        "Turbidity by Grade\n",
        "- Turbidity 0 (rendah) banyak pada Grade (Medium).\n",
        "- Turbidity 1 (tinggi) banyak pada Grade (Low) dan Grade (High).\n",
        "\n",
        "Colour by Grade\n",
        "- Colour 255 mendominasi semua grade, tapi Grade (Low) paling banyak.\n",
        "- Nilai warna di bawah 255 cenderung meningkat untuk Grade (High)."
      ],
      "metadata": {
        "id": "X3mHNSVlAhhG"
      }
    },
    {
      "cell_type": "markdown",
      "source": [
        "# **4. Data Preparation**"
      ],
      "metadata": {
        "id": "8jz4ErEDvVVf"
      }
    },
    {
      "cell_type": "code",
      "source": [
        "grade_mapping = {'low': 0, 'medium': 1, 'high': 2}    # mapping label kategori ke angka\n",
        "df['Grade'] = df['Grade'].map(grade_mapping)          # mengubah nilai kolom 'Grade' dari teks ke angka"
      ],
      "metadata": {
        "id": "Y6KOr9I4tx6a"
      },
      "execution_count": 16,
      "outputs": []
    },
    {
      "cell_type": "code",
      "source": [
        "print(\"\\nGrade Distribution after conversion (0: low, 1: medium, 2: high):\")\n",
        "\n",
        "# menampilkan jumlah data per kelas setelah konversi\n",
        "display(df['Grade'].value_counts())"
      ],
      "metadata": {
        "colab": {
          "base_uri": "https://localhost:8080/",
          "height": 244
        },
        "id": "NDDc3nLYuCi8",
        "outputId": "ecc692a2-847d-4994-b7fe-e9643a99199c"
      },
      "execution_count": 17,
      "outputs": [
        {
          "output_type": "stream",
          "name": "stdout",
          "text": [
            "\n",
            "Grade Distribution after conversion (0: low, 1: medium, 2: high):\n"
          ]
        },
        {
          "output_type": "display_data",
          "data": {
            "text/plain": [
              "Grade\n",
              "0    429\n",
              "1    374\n",
              "2    256\n",
              "Name: count, dtype: int64"
            ],
            "text/html": [
              "<div>\n",
              "<style scoped>\n",
              "    .dataframe tbody tr th:only-of-type {\n",
              "        vertical-align: middle;\n",
              "    }\n",
              "\n",
              "    .dataframe tbody tr th {\n",
              "        vertical-align: top;\n",
              "    }\n",
              "\n",
              "    .dataframe thead th {\n",
              "        text-align: right;\n",
              "    }\n",
              "</style>\n",
              "<table border=\"1\" class=\"dataframe\">\n",
              "  <thead>\n",
              "    <tr style=\"text-align: right;\">\n",
              "      <th></th>\n",
              "      <th>count</th>\n",
              "    </tr>\n",
              "    <tr>\n",
              "      <th>Grade</th>\n",
              "      <th></th>\n",
              "    </tr>\n",
              "  </thead>\n",
              "  <tbody>\n",
              "    <tr>\n",
              "      <th>0</th>\n",
              "      <td>429</td>\n",
              "    </tr>\n",
              "    <tr>\n",
              "      <th>1</th>\n",
              "      <td>374</td>\n",
              "    </tr>\n",
              "    <tr>\n",
              "      <th>2</th>\n",
              "      <td>256</td>\n",
              "    </tr>\n",
              "  </tbody>\n",
              "</table>\n",
              "</div><br><label><b>dtype:</b> int64</label>"
            ]
          },
          "metadata": {}
        }
      ]
    },
    {
      "cell_type": "code",
      "source": [
        "# memisahkan fitur (x) dan label (y)\n",
        "X = df.drop('Grade', axis=1)\n",
        "y = df['Grade']"
      ],
      "metadata": {
        "id": "8cdNH1BmvZaX"
      },
      "execution_count": 18,
      "outputs": []
    },
    {
      "cell_type": "code",
      "source": [
        "# menentukan kolom kategorikal dan numerik dari data fitur (x)\n",
        "categorical_cols = [col for col in X.columns if X[col].dtype == 'object' or X[col].nunique() < 5]\n",
        "numerical_cols = [col for col in X.columns if col not in categorical_cols]\n",
        "\n",
        "# menampilkan hasil identifikasi kolom\n",
        "print(f\"Categorical columns: {categorical_cols}\")\n",
        "print(f\"Numerical columns: {numerical_cols}\")"
      ],
      "metadata": {
        "colab": {
          "base_uri": "https://localhost:8080/"
        },
        "id": "aj9xDDRPvhr6",
        "outputId": "d710e570-612d-4fb8-b600-c04c5653940c"
      },
      "execution_count": 19,
      "outputs": [
        {
          "output_type": "stream",
          "name": "stdout",
          "text": [
            "Categorical columns: ['Taste', 'Odor', 'Fat ', 'Turbidity']\n",
            "Numerical columns: ['pH', 'Temprature', 'Colour']\n"
          ]
        }
      ]
    },
    {
      "cell_type": "code",
      "source": [
        "# membuat pipeline untuk transformasi data numerik\n",
        "numeric_transformer = Pipeline(steps=[\n",
        "    ('scaler', StandardScaler())\n",
        "])\n",
        "\n",
        "# membuat pipeline untuk transformasi data kategorikal\n",
        "categorical_transformer = Pipeline(steps=[\n",
        "    ('onehot', OneHotEncoder(handle_unknown='ignore'))\n",
        "])"
      ],
      "metadata": {
        "id": "26RIiQRVvoCv"
      },
      "execution_count": 20,
      "outputs": []
    },
    {
      "cell_type": "code",
      "source": [
        "# menggabungkan pipeline numerik dan kategorikal le dalam satu preprocessor\n",
        "preprocessor = ColumnTransformer(\n",
        "    transformers=[\n",
        "        ('num', numeric_transformer, numerical_cols),\n",
        "        ('cat', categorical_transformer, categorical_cols)\n",
        "    ])"
      ],
      "metadata": {
        "id": "rUqwwkBevttx"
      },
      "execution_count": 21,
      "outputs": []
    },
    {
      "cell_type": "code",
      "source": [
        "# membagi dataset menjadi data latih dan data uji dengan rasio 80:20\n",
        "# menggunakan stratify agar distribusi kelas (Grade) tetap seimbang di kedua set\n",
        "X_train, X_test, y_train, y_test = train_test_split(X, y, test_size=0.2, random_state=42, stratify=y)\n",
        "\n",
        "# menampilkan ukuran dataset pelatihan dan pengujian\n",
        "print(f\"Training set shape: {X_train.shape}\")\n",
        "print(f\"Testing set shape: {X_test.shape}\")\n",
        "\n",
        "# menampilkan distribusi kelas (Grade) pada data latih\n",
        "print(f\"Training set grade distribution: \\n{y_train.value_counts()}\")\n",
        "\n",
        "# menampilkan distribusi kelas (Grade) pada data uji\n",
        "print(f\"Testing set grade distribution: \\n{y_test.value_counts()}\")\n"
      ],
      "metadata": {
        "colab": {
          "base_uri": "https://localhost:8080/"
        },
        "id": "zEhKoAcFvvtH",
        "outputId": "3031e6a0-7ee5-4eb2-ab77-8c29e447fbb5"
      },
      "execution_count": 22,
      "outputs": [
        {
          "output_type": "stream",
          "name": "stdout",
          "text": [
            "Training set shape: (847, 7)\n",
            "Testing set shape: (212, 7)\n",
            "Training set grade distribution: \n",
            "Grade\n",
            "0    343\n",
            "1    299\n",
            "2    205\n",
            "Name: count, dtype: int64\n",
            "Testing set grade distribution: \n",
            "Grade\n",
            "0    86\n",
            "1    75\n",
            "2    51\n",
            "Name: count, dtype: int64\n"
          ]
        }
      ]
    },
    {
      "cell_type": "markdown",
      "source": [
        "# **5. Modeling**"
      ],
      "metadata": {
        "id": "sHFXBXJRv39U"
      }
    },
    {
      "cell_type": "code",
      "source": [
        "# membuat pipeline untuk model RF\n",
        "rf_pipeline = Pipeline(steps=[\n",
        "    ('preprocessor', preprocessor),\n",
        "    ('classifier', RandomForestClassifier(random_state=42))\n",
        "])\n",
        "\n",
        "# membuat pipeline untuk model SVM\n",
        "svm_pipeline = Pipeline(steps=[\n",
        "    ('preprocessor', preprocessor),\n",
        "    ('classifier', SVC(random_state=42, probability=True))\n",
        "])"
      ],
      "metadata": {
        "id": "wPPzr9lUv8J7"
      },
      "execution_count": 23,
      "outputs": []
    },
    {
      "cell_type": "code",
      "source": [
        "# melatih model RF dengan data pelatihan\n",
        "print(\"Training Random Forest baseline model...\")\n",
        "rf_pipeline.fit(X_train, y_train)\n",
        "y_pred_rf = rf_pipeline.predict(X_test)\n",
        "\n",
        "# melatih model SVM dengan data pelatihan\n",
        "print(\"Training SVM baseline model...\")\n",
        "svm_pipeline.fit(X_train, y_train)\n",
        "y_pred_svm = svm_pipeline.predict(X_test)"
      ],
      "metadata": {
        "colab": {
          "base_uri": "https://localhost:8080/"
        },
        "id": "sWFoa1ZLv-U7",
        "outputId": "b2930d4d-abbc-4f06-b366-903aab0893a2"
      },
      "execution_count": 24,
      "outputs": [
        {
          "output_type": "stream",
          "name": "stdout",
          "text": [
            "Training Random Forest baseline model...\n",
            "Training SVM baseline model...\n"
          ]
        }
      ]
    },
    {
      "cell_type": "markdown",
      "source": [
        "# **6. Evaluation**"
      ],
      "metadata": {
        "id": "OFr84JDLWo6P"
      }
    },
    {
      "cell_type": "code",
      "source": [
        "# menampilkan hasil evaluasi model Random Forest\n",
        "print(\"\\nRandom Forest Baseline Results:\")\n",
        "print(f\"Accuracy: {accuracy_score(y_test, y_pred_rf):.4f}\")\n",
        "print(f\"F1 Score (weighted): {f1_score(y_test, y_pred_rf, average='weighted'):.4f}\")\n",
        "print(\"\\nClassification Report:\")\n",
        "print(classification_report(y_test, y_pred_rf))\n",
        "\n",
        "# menampilkan hasil evaluasi model SVM\n",
        "print(\"\\nSVM Baseline Results:\")\n",
        "print(f\"Accuracy: {accuracy_score(y_test, y_pred_svm):.4f}\")\n",
        "print(f\"F1 Score (weighted): {f1_score(y_test, y_pred_svm, average='weighted'):.4f}\")\n",
        "print(\"\\nClassification Report:\")\n",
        "print(classification_report(y_test, y_pred_svm))"
      ],
      "metadata": {
        "colab": {
          "base_uri": "https://localhost:8080/"
        },
        "id": "AmZ3pF0fwYGP",
        "outputId": "9efafd81-620f-482e-99a6-2dcacc9d7a3b"
      },
      "execution_count": 25,
      "outputs": [
        {
          "output_type": "stream",
          "name": "stdout",
          "text": [
            "\n",
            "Random Forest Baseline Results:\n",
            "Accuracy: 0.9953\n",
            "F1 Score (weighted): 0.9953\n",
            "\n",
            "Classification Report:\n",
            "              precision    recall  f1-score   support\n",
            "\n",
            "           0       1.00      0.99      0.99        86\n",
            "           1       1.00      1.00      1.00        75\n",
            "           2       0.98      1.00      0.99        51\n",
            "\n",
            "    accuracy                           1.00       212\n",
            "   macro avg       0.99      1.00      0.99       212\n",
            "weighted avg       1.00      1.00      1.00       212\n",
            "\n",
            "\n",
            "SVM Baseline Results:\n",
            "Accuracy: 0.9292\n",
            "F1 Score (weighted): 0.9292\n",
            "\n",
            "Classification Report:\n",
            "              precision    recall  f1-score   support\n",
            "\n",
            "           0       0.98      0.98      0.98        86\n",
            "           1       0.91      0.91      0.91        75\n",
            "           2       0.88      0.88      0.88        51\n",
            "\n",
            "    accuracy                           0.93       212\n",
            "   macro avg       0.92      0.92      0.92       212\n",
            "weighted avg       0.93      0.93      0.93       212\n",
            "\n"
          ]
        }
      ]
    },
    {
      "cell_type": "markdown",
      "source": [
        "**Keterangan**\n",
        "\n",
        "Random Forest\n",
        "- Accuracy: 99.53% — sangat tinggi, artinya model ini sangat akurat dalam mengklasifikasikan kualitas susu.\n",
        "- F1 Score (weighted): 99.53% — mengindikasikan keseimbangan sangat baik antara precision dan recall di semua kelas.\n",
        "\n",
        "SVM\n",
        "- Accuracy: 92.92% — juga cukup baik, namun lebih rendah dibanding Random Forest.\n",
        "- F1 Score (weighted): 92.92% — performa yang baik tapi tidak setinggi Random Forest."
      ],
      "metadata": {
        "id": "U-aahl-_Fhvc"
      }
    },
    {
      "cell_type": "code",
      "source": [
        "fig, (ax1, ax2) = plt.subplots(1, 2, figsize=(15, 6))\n",
        "\n",
        "# membuat confusion matrix untuk prediksi RF\n",
        "cm_rf = confusion_matrix(y_test, y_pred_rf)\n",
        "sns.heatmap(cm_rf, annot=True, fmt='d', cmap='Blues', ax=ax1)\n",
        "ax1.set_title('Random Forest Confusion Matrix')\n",
        "ax1.set_xlabel('Predicted')\n",
        "ax1.set_ylabel('Actual')\n",
        "ax1.set_xticklabels(['Low (0)', 'Medium (1)', 'High (2)'])\n",
        "ax1.set_yticklabels(['Low (0)', 'Medium (1)', 'High (2)'])\n",
        "\n",
        "# membuat confusion matrix untuk prediksi SVM\n",
        "cm_svm = confusion_matrix(y_test, y_pred_svm)\n",
        "sns.heatmap(cm_svm, annot=True, fmt='d', cmap='Blues', ax=ax2)\n",
        "ax2.set_title('SVM Confusion Matrix')\n",
        "ax2.set_xlabel('Predicted')\n",
        "ax2.set_ylabel('Actual')\n",
        "ax2.set_xticklabels(['Low (0)', 'Medium (1)', 'High (2)'])\n",
        "ax2.set_yticklabels(['Low (0)', 'Medium (1)', 'High (2)'])\n",
        "\n",
        "plt.tight_layout()\n",
        "plt.show()\n"
      ],
      "metadata": {
        "colab": {
          "base_uri": "https://localhost:8080/",
          "height": 601
        },
        "id": "beeD5NJbwclb",
        "outputId": "705b64c1-be2f-42c1-c9a6-481dea153d63"
      },
      "execution_count": 26,
      "outputs": [
        {
          "output_type": "display_data",
          "data": {
            "text/plain": [
              "<Figure size 1500x600 with 4 Axes>"
            ],
            "image/png": "[encoded data removed]"
          },
          "metadata": {}
        }
      ]
    },
    {
      "cell_type": "markdown",
      "source": [
        "Model Random Forest menunjukkan performa yang sangat baik\n",
        "- Low (0): 85 sampel diklasifikasikan dengan benar, hanya 1 sampel salah sebagai High (2).\n",
        "- Medium (1): Semua 75 sampel diklasifikasikan dengan benar tanpa kesalahan.\n",
        "- High (2): Semua 51 sampel diklasifikasikan dengan benar tanpa kesalahan.\n",
        "\n",
        "Tidak ada kesalahan signifikan, menunjukkan model ini sangat akurat.\n",
        "\n",
        "\n",
        "\n",
        "---\n",
        "\n",
        "Model SVM menunjukkan performa cukup baik, namun dengan beberapa kesalahan:\n",
        "- Low (0): 84 sampel benar, 1 salah ke Medium (1), dan 1 salah ke High (2).\n",
        "- Medium (1): 68 sampel benar, namun ada 2 salah ke Low (0) dan 5 salah ke High (2).\n",
        "- High (2): 45 sampel benar, namun ada 6 salah ke Medium (1).\n",
        "\n",
        "Kesalahan lebih sering terjadi pada kelas Medium (1)."
      ],
      "metadata": {
        "id": "pu9FTQ0HLka8"
      }
    }
  ]
}